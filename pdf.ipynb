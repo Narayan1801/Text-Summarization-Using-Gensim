{
  "nbformat": 4,
  "nbformat_minor": 0,
  "metadata": {
    "colab": {
      "name": "pdf.ipynb",
      "provenance": []
    },
    "kernelspec": {
      "name": "python3",
      "display_name": "Python 3"
    },
    "language_info": {
      "name": "python"
    }
  },
  "cells": [
    {
      "cell_type": "code",
      "execution_count": 3,
      "metadata": {
        "colab": {
          "base_uri": "https://localhost:8080/"
        },
        "id": "4jLjD_AqqIWo",
        "outputId": "cc459d6a-9113-41a9-ce65-d3379fe2f807"
      },
      "outputs": [
        {
          "output_type": "stream",
          "name": "stdout",
          "text": [
            "Collecting pdfquery\n",
            "  Downloading pdfquery-0.4.3.tar.gz (17 kB)\n",
            "Collecting cssselect>=0.7.1\n",
            "  Downloading cssselect-1.1.0-py2.py3-none-any.whl (16 kB)\n",
            "Requirement already satisfied: chardet in /usr/local/lib/python3.7/dist-packages (from pdfquery) (3.0.4)\n",
            "Requirement already satisfied: lxml>=3.0 in /usr/local/lib/python3.7/dist-packages (from pdfquery) (4.2.6)\n",
            "Collecting pdfminer.six\n",
            "  Downloading pdfminer.six-20220506-py3-none-any.whl (5.6 MB)\n",
            "\u001b[K     |████████████████████████████████| 5.6 MB 6.1 MB/s \n",
            "\u001b[?25hCollecting pyquery>=1.2.2\n",
            "  Downloading pyquery-1.4.3-py3-none-any.whl (22 kB)\n",
            "Collecting roman>=1.4.0\n",
            "  Downloading roman-3.3-py2.py3-none-any.whl (3.9 kB)\n",
            "Collecting cryptography~=36.0.0\n",
            "  Downloading cryptography-36.0.2-cp36-abi3-manylinux_2_24_x86_64.whl (3.6 MB)\n",
            "\u001b[K     |████████████████████████████████| 3.6 MB 39.9 MB/s \n",
            "\u001b[?25hRequirement already satisfied: charset-normalizer~=2.0.0 in /usr/local/lib/python3.7/dist-packages (from pdfminer.six->pdfquery) (2.0.12)\n",
            "Requirement already satisfied: cffi>=1.12 in /usr/local/lib/python3.7/dist-packages (from cryptography~=36.0.0->pdfminer.six->pdfquery) (1.15.0)\n",
            "Requirement already satisfied: pycparser in /usr/local/lib/python3.7/dist-packages (from cffi>=1.12->cryptography~=36.0.0->pdfminer.six->pdfquery) (2.21)\n",
            "Building wheels for collected packages: pdfquery\n",
            "  Building wheel for pdfquery (setup.py) ... \u001b[?25l\u001b[?25hdone\n",
            "  Created wheel for pdfquery: filename=pdfquery-0.4.3-py3-none-any.whl size=16799 sha256=7f7805016c13a365b9833b719100b9d9d413262a899ede2d2304c319c5ae95ae\n",
            "  Stored in directory: /root/.cache/pip/wheels/3a/95/34/0fe71e3dc62a1e462856b503eebd43b2741f7face768fc94b5\n",
            "Successfully built pdfquery\n",
            "Installing collected packages: cssselect, cryptography, roman, pyquery, pdfminer.six, pdfquery\n",
            "Successfully installed cryptography-36.0.2 cssselect-1.1.0 pdfminer.six-20220506 pdfquery-0.4.3 pyquery-1.4.3 roman-3.3\n",
            "Requirement already satisfied: pandas in /usr/local/lib/python3.7/dist-packages (1.3.5)\n",
            "Requirement already satisfied: pytz>=2017.3 in /usr/local/lib/python3.7/dist-packages (from pandas) (2022.1)\n",
            "Requirement already satisfied: python-dateutil>=2.7.3 in /usr/local/lib/python3.7/dist-packages (from pandas) (2.8.2)\n",
            "Requirement already satisfied: numpy>=1.17.3 in /usr/local/lib/python3.7/dist-packages (from pandas) (1.21.6)\n",
            "Requirement already satisfied: six>=1.5 in /usr/local/lib/python3.7/dist-packages (from python-dateutil>=2.7.3->pandas) (1.15.0)\n"
          ]
        }
      ],
      "source": [
        "!pip install pdfquery\n",
        "!pip install pandas"
      ]
    },
    {
      "cell_type": "code",
      "source": [
        "!pip install PyPDF2"
      ],
      "metadata": {
        "colab": {
          "base_uri": "https://localhost:8080/"
        },
        "id": "3hrxqEEetjeq",
        "outputId": "892bd4a9-2677-484d-d0d8-eddc3f140bbc"
      },
      "execution_count": 4,
      "outputs": [
        {
          "output_type": "stream",
          "name": "stdout",
          "text": [
            "Collecting PyPDF2\n",
            "  Downloading PyPDF2-1.27.12-py3-none-any.whl (80 kB)\n",
            "\u001b[?25l\r\u001b[K     |████                            | 10 kB 16.9 MB/s eta 0:00:01\r\u001b[K     |████████▏                       | 20 kB 16.1 MB/s eta 0:00:01\r\u001b[K     |████████████▎                   | 30 kB 9.6 MB/s eta 0:00:01\r\u001b[K     |████████████████▍               | 40 kB 5.4 MB/s eta 0:00:01\r\u001b[K     |████████████████████▌           | 51 kB 4.9 MB/s eta 0:00:01\r\u001b[K     |████████████████████████▋       | 61 kB 5.7 MB/s eta 0:00:01\r\u001b[K     |████████████████████████████▋   | 71 kB 5.5 MB/s eta 0:00:01\r\u001b[K     |████████████████████████████████| 80 kB 3.0 MB/s \n",
            "\u001b[?25hInstalling collected packages: PyPDF2\n",
            "Successfully installed PyPDF2-1.27.12\n"
          ]
        }
      ]
    },
    {
      "cell_type": "code",
      "source": [
        "from PyPDF2 import PdfFileMerger\n",
        "\n",
        "pdfs = ['/content/drive/MyDrive/template_1.pdf', '/content/drive/MyDrive/template_2.pdf', '/content/drive/MyDrive/template_3.pdf']\n",
        "\n",
        "merger = PdfFileMerger()\n",
        "\n",
        "for pdf in pdfs:\n",
        "    merger.append(pdf)\n",
        "\n",
        "merger.write(\"result.pdf\")\n",
        "merger.close()"
      ],
      "metadata": {
        "id": "BkBIa17KttA-"
      },
      "execution_count": 37,
      "outputs": []
    },
    {
      "cell_type": "code",
      "source": [
        "# importing required modules\n",
        "import PyPDF2\n",
        "\n",
        "# creating a pdf file object\n",
        "pdfFileObj = open('/content/drive/MyDrive/result.pdf', 'rb')\n",
        "\n",
        "# creating a pdf reader object\n",
        "pdfReader = PyPDF2.PdfFileReader(pdfFileObj)\n",
        "\n",
        "# printing number of pages in pdf file\n",
        "print(pdfReader.numPages)\n",
        "\n",
        "# creating a page object\n",
        "pageObj = pdfReader.getPage(0)\n",
        "\n",
        "# extracting text from page\n",
        "text = pageObj.extractText()\n",
        "\n",
        "# closing the pdf file object\n",
        "pdfFileObj.close()\n"
      ],
      "metadata": {
        "colab": {
          "base_uri": "https://localhost:8080/"
        },
        "id": "MPgMe6OL3IoW",
        "outputId": "db7db27f-36c7-44ac-b57a-c9de689ceaf8"
      },
      "execution_count": 5,
      "outputs": [
        {
          "output_type": "stream",
          "name": "stdout",
          "text": [
            "24\n"
          ]
        }
      ]
    },
    {
      "cell_type": "code",
      "source": [
        "text"
      ],
      "metadata": {
        "colab": {
          "base_uri": "https://localhost:8080/",
          "height": 174
        },
        "id": "ekT6aVtk61_d",
        "outputId": "c071c701-7c60-47de-b1fb-962360ea0b31"
      },
      "execution_count": 6,
      "outputs": [
        {
          "output_type": "execute_result",
          "data": {
            "text/plain": [
              "'Uni f or m Resi dential  Loan Ap pl i cati on \\nFreddieM ac Form 65  7/ 05 (rev.6/09) Page \\n1 of 4 FannieM ae Form1003  7/ 05(rev.6/09) \\n1003 Page 1 04/2011 ~ Encompass360\\n®\\n \\nUniform Residential Loan Application \\nThis applic at ion is designed to becompleted by theapplicant(s)\\n with theLender™s assistance. A\\npplicants should complete this  \\nform as ﬁBorrowerﬂ or ﬁCo-Borrowerﬂ, as \\napplicable. Co-Borrower information must also beprovided (andthe appr\\nopriate box checked) when      the income or as sets of\\n aperson ot her than theBorrower (including \\nthe Borrower™s spouse) will be used as a basis  for loan qualific ation or        the income or asse\\nts of the Borrower™s spouse o r other person who has community property rights \\npursuanttostat e law will not be used as  a basisfor loan qua\\nlific ation, but hisor her liabilities mustbeconsidered becaus e\\n thespouse or other person hascommunity property \\nrights pursuant to applicable law and Borrower resides ina communi\\nty property stat e, thesecurity property is located in a com\\nmunity property state, orthe Borrower is relying \\non ot her property located in a community property stat\\ne as a basis for repaymentof the loan.   \\nIf this is  an applic at ion for jointcredit, Borrower and Co-Borrowe\\nr each agree that we intend to apply for jointcredit (sign \\nbelow). \\n \\n \\n \\nBorrower \\n Co-Borrowe r                                                                                                                 \\nI. TYPE OF MORTG AGE AN D TERMS OF LO AN\\n \\nMortga ge\\n VAConventionalOther(e xplain):  \\nAp p lie d for\\n:  FHA  USDA/Rural \\n HousingService \\nAgenc y Case Nu mber  Lender C ase Nu mber  \\nA\\nmount \\n$ \\nInterest Rate  \\n% \\nNo. of Months  \\nAm o r tiz a tio n\\n FixedR a te  Other(e xplain):  \\nType\\n: GPMARM(type): \\nII. PROPER TY I NFORM AT ION AN D  PURP OSE OF LO AN\\n \\nSubject Propert y Address (street, city, state, & ZIP)  \\nNo. of Units  \\n \\nLegal Description of Subject Prop ert y (attach desc ription if necessar y)  \\nYear Built \\n\\n \\nPurpose of Loan :  Purchase Cons\\ntruction Other(e xplain):  \\n RefinanceConstruction-Per m anent  \\nPropert y willbe: \\n Primary\\n \\nSecondar y Investment \\n Residence Residence\\n \\nCom plete  thi s  li ne if c ons truc ti on or c ons truc ti on- perma nen t l oan.  \\nYea r Lot Acquire d Original Cost  \\n$ \\nAmount Existing Liens \\n$ \\n(a) Present  Value of Lot  \\n\\n$ \\n(b) Cost of I m pro v ements \\n\\n$ \\nTotal  (a+b)  \\n\\n$ \\nCom plete  thi s li ne if this is a refinance l oan .\\n \\nYea r Acquired  Original Cost  \\n \\n$ \\nAmount Existing Liens \\n\\n \\n\\n$ \\nPurpose of Refin ance \\n\\n \\nDescribe Improvements         made          to be made\\n \\nCost $ \\nTi tle will be held in what Nam e(s ) \\n \\nManner in which Title will be held  \\nEstate will be held in:\\n \\nFee Simple \\n Leasehold \\n(sho w e xpirati on dat e)\\nSource of Do wn Pa ym ent, Settle m ent Char ges\\n an d/or Subo rdinate Financing (explain)  \\n \\n \\n \\nBorrow er \\nIII. BOR ROWE R  INF ORM AT ION  \\nCo-B orrow er\\n \\nBorro we r™s Nam e (include Jr. or Sr. if applicable) \\n\\n \\nCo-Bor ro we r™s Name (include Jr. or Sr. if applicable)  \\nSocial S ecurit y Num ber  \\n \\nHome P hone ( incl. a r ea code )  DOB ( M M/ DD/ YYYY) Yr s . Sch ool Social S ecurit y Num ber  Home P hone ( incl. a r ea code )  DOB ( M M/ DD/ YYYY) Yr s . Sch ool\\n Marri ed  \\nUnmarried (inc ludesingle, \\n  divorced,widowed)  \\n Separated  \\nDependents (not listed by Co-Borrower)\\n Marri ed  \\nUnmarried (inc ludesingle \\n  divorced,widowed)  \\n Separated  \\nDependents (not listed by Borrower)\\n \\nno.\\n \\nages\\n \\nno. ages \\nPresent Address (street, cit y, state , ZIP)  Own  Rent   No. Yrs.  \\n \\n \\n \\nPresent Address (street, cit y, state , ZIP)  Own   Rent   No. Yrs.\\nMailing Address, if different from P resent Address  \\n\\n \\n\\n \\n\\n \\nMailing Address, if different from P resent Address  \\nIf residi ng a t pr esent a ddre ss f or less t han two  years, co mple t e  the foll owi ng :\\nForme r Address (street, cit y, state , ZIP)   Own  Rent   No. Yrs.  \\n \\n\\n \\n\\n \\nForme r Address (street, cit y, state , ZIP)  Own   Rent   No. Yrs.\\n \\nBorrow er \\nIV. EMPLOYME NT IN FORM AT I ON  \\nCo-B orrow er\\n \\nName & Address  of Emplo yer  \\nSelf Employed  \\n \\n\\n \\n\\n \\n\\n \\nYrs. on t his job \\n\\n \\nName & Address  of Emplo yer  Self Employed  Yrs. on t his job \\nYrs. employed in \\nthis line of  \\nwork/profession \\n \\nYrs. employed \\nin this line of  \\nwork/profession \\nPosition/Title/Typ e of Business \\n \\nBusiness Phone (incl. area code)  Po\\nsition/Title/Typ e of Business \\n \\nBusiness Phone (incl. area code)\\nIf em ploye d in c urrent posi tio n f or less t han two  years or if curr ently e mpl oye d in m ore th an on e posi tio n, co m plete the foll ow\\ni ng:\\n \\nName & Address  of Emplo yer  Self Employed  \\n\\n \\n\\n \\n\\n \\n\\n \\nDates  (from -to)  \\n\\n \\n\\n \\nName & Address  of Emplo yer  Self Employed  Dates (from -to)  \\nMonthl y Income  \\n \\n$ \\nMonthl y Income\\n \\n$ \\nPosition/Title/Typ e of Business \\n\\n \\nBusiness Phone (incl. area code)  Po\\nsition/Title/Typ e of Business \\n \\nBusiness Phone (incl. area code)\\nName & Address  of Emplo yer  Self Employed  \\n\\n \\n\\n \\n\\n \\n\\n \\nDates  (from -to)  \\n\\n \\n\\n \\nName & Address  of Emplo yer  Self Employed  Dates (from -to)  \\nMonthl y Income  \\n \\n$ \\nMonthl y Income\\n \\n$ \\nPosition/Title/Typ e of Business \\n\\n \\nBusiness Phone (incl. area code)  Po\\nsition/Title/Typ e of Business \\n \\nBusiness Phone (incl. area code)\\n \\nNations Reliable Lending, LLC\\n720NRL135338\\nX\\n514-1434133-703\\n360\\n4.375\\n176,739.00\\nX\\n4305 Lavaca River Ct, Corpus Christi, TX 78410 County: Nueces\\n1983\\n1\\nLt 9, Blk 6, Wood River Unit 2, an addition to the City of Corpus Christi, Nuece\\nCounty, Texas according to map or plat thereof recorded in Vol 45, Pg 190-192 of\\nX\\nX\\nSamuel Garcia\\nSingle man\\nFHAGiftSourceGovernmentAssistance\\nFHAGiftSourceGovernmentAssistance\\nX\\nSamuel  Garcia\\n361-500-7280\\n644-07-9122\\n12\\nX\\n2\\n7mos, 4\\n07/26/1989\\nX\\n0Y6M\\n11325 I37 Unit 2903\\nCorpus Christi, TX 78410\\n11325 I37 Unit 2903\\nCorpus Christi,TX 78410\\nX\\n0Y6M\\n9349 CR 509\\nMathis, TX 78368\\n\\n//\\n\\n\\n\\nRepublic Services\\n4414 Agnes St\\nCorpus Christi, TX 78405\\n2Y0M\\n2\\nMaintenance Shop Technician A\\n361-698-5000\\n\\n07/21/2015\\n'"
            ],
            "application/vnd.google.colaboratory.intrinsic+json": {
              "type": "string"
            }
          },
          "metadata": {},
          "execution_count": 6
        }
      ]
    },
    {
      "cell_type": "code",
      "source": [
        "from gensim.summarization.summarizer import summarize\n",
        "from gensim.summarization import keywords"
      ],
      "metadata": {
        "id": "yrtpFMSZFH2R"
      },
      "execution_count": 7,
      "outputs": []
    },
    {
      "cell_type": "code",
      "source": [
        "print(summarize(text, ratio=0.5))"
      ],
      "metadata": {
        "colab": {
          "base_uri": "https://localhost:8080/"
        },
        "id": "hGdtiCErcMWR",
        "outputId": "f0764b7f-a2d3-4821-e155-01e86f65e447"
      },
      "execution_count": 9,
      "outputs": [
        {
          "output_type": "stream",
          "name": "stdout",
          "text": [
            "Uni f or m Resi dential  Loan Ap pl i cati on \n",
            "FreddieM ac Form 65  7/ 05 (rev.6/09) Page \n",
            "1 of 4 FannieM ae Form1003  7/ 05(rev.6/09) \n",
            "Uniform Residential Loan Application \n",
            "This applic at ion is designed to becompleted by theapplicant(s)\n",
            "applicable.\n",
            "Co-Borrower information must also beprovided (andthe appr\n",
            "the Borrower™s spouse) will be used as a basis  for loan qualific ation or        the income or asse\n",
            "ts of the Borrower™s spouse o r other person who has community property rights \n",
            "pursuanttostat e law will not be used as  a basisfor loan qua\n",
            "rights pursuant to applicable law and Borrower resides ina communi\n",
            "ty property stat e, thesecurity property is located in a com\n",
            "munity property state, orthe Borrower is relying \n",
            "on ot her property located in a community property stat\n",
            "e as a basis for repaymentof the loan.\n",
            "If this is  an applic at ion for jointcredit, Borrower and Co-Borrowe\n",
            "I. TYPE OF MORTG AGE AN D TERMS OF LO AN\n",
            "VAConventionalOther(e xplain):  \n",
            "FixedR a te  Other(e xplain):  \n",
            "Type\n",
            ": GPMARM(type): \n",
            "Subject Propert y Address (street, city, state, & ZIP)  \n",
            "Purpose of Loan :  Purchase Cons\n",
            "truction Other(e xplain):  \n",
            "Com plete  thi s  li ne if c ons truc ti on or c ons truc ti on- perma nen t l oan.\n",
            "Yea r Lot Acquire d Original Cost  \n",
            "Com plete  thi s li ne if this is a refinance l oan .\n",
            "Yea r Acquired  Original Cost  \n",
            "Cost $ \n",
            "Ti tle will be held in what Nam e(s ) \n",
            "Manner in which Title will be held  \n",
            "BOR ROWE R  INF ORM AT ION  \n",
            "Borro we r™s Nam e (include Jr. or Sr. if applicable) \n",
            "Co-Bor ro we r™s Name (include Jr. or Sr. if applicable)  \n",
            "Home P hone ( incl.\n",
            "Sch ool Social S ecurit y Num ber  Home P hone ( incl.\n",
            "a r ea code )  DOB ( M M/ DD/ YYYY) Yr s .\n",
            "a r ea code )  DOB ( M M/ DD/ YYYY) Yr s .\n",
            "Dependents (not listed by Borrower)\n",
            "Dependents (not listed by Borrower)\n",
            "Present Address (street, cit y, state , ZIP)  Own   Rent   No. Yrs.\n",
            "Present Address (street, cit y, state , ZIP)  Own   Rent   No. Yrs.\n",
            "If residi ng a t pr esent a ddre ss f or less t han two  years, co mple t e  the foll owi ng :\n",
            "Forme r Address (street, cit y, state , ZIP)  Own   Rent   No. Yrs.\n",
            "Forme r Address (street, cit y, state , ZIP)  Own   Rent   No. Yrs.\n",
            "Borrow er \n",
            "Borrow er \n",
            "Borrow er \n",
            "Borrow er \n",
            "EMPLOYME NT IN FORM AT I ON  \n",
            "Name & Address  of Emplo yer  \n",
            "Name & Address  of Emplo yer  Self Employed  Yrs. on t his job \n",
            "Yrs. employed \n",
            "Yrs. employed \n",
            "If em ploye d in c urrent posi tio n f or less t han two  years or if curr ently e mpl oye d in m ore th an on e posi tio n, co m plete the foll ow\n",
            "Name & Address  of Emplo yer  Self Employed  \n",
            "Name & Address  of Emplo yer  Self Employed  \n",
            "Name & Address  of Emplo yer  Self Employed  Dates (from -to)  \n",
            "Name & Address  of Emplo yer  Self Employed  Dates (from -to)  \n",
            "Monthl y Income\n",
            "Position/Title/Typ e of Business \n",
            "Position/Title/Typ e of Business \n",
            "Position/Title/Typ e of Business \n",
            "sition/Title/Typ e of Business \n",
            "sition/Title/Typ e of Business \n",
            "sition/Title/Typ e of Business \n",
            "Business Phone (incl.\n",
            "Business Phone (incl.\n",
            "Business Phone (incl.\n",
            "Business Phone (incl.\n",
            "Business Phone (incl.\n",
            "Business Phone (incl.\n",
            "area code)\n",
            "area code)\n",
            "area code)\n",
            "area code)\n",
            "area code)\n",
            "area code)\n",
            "4305 Lavaca River Ct, Corpus Christi, TX 78410 County: Nueces\n",
            "Lt 9, Blk 6, Wood River Unit 2, an addition to the City of Corpus Christi, Nuece\n",
            "Corpus Christi, TX 78405\n",
            "Corpus Christi, TX 78405\n",
            "Corpus Christi, TX 78405\n"
          ]
        }
      ]
    },
    {
      "cell_type": "code",
      "source": [
        "print(keywords(text,words=50 ))"
      ],
      "metadata": {
        "colab": {
          "base_uri": "https://localhost:8080/"
        },
        "id": "j79v4dn3Fo3M",
        "outputId": "c9049eee-48f7-41db-8109-c8a42c8eda8c"
      },
      "execution_count": 10,
      "outputs": [
        {
          "output_type": "stream",
          "name": "stdout",
          "text": [
            "loan\n",
            "yrs\n",
            "borrower\n",
            "borrow\n",
            "property rights\n",
            "present\n",
            "state\n",
            "address\n",
            "title\n",
            "river\n",
            "resides\n",
            "residence\n",
            "units\n",
            "unit\n",
            "bor\n",
            "desc\n",
            "services\n",
            "thereof\n",
            "primary\n",
            "posi\n",
            "shop\n",
            "mustbeconsidered\n",
            "ber\n",
            "code\n",
            "position\n",
            "employed\n",
            "ool\n",
            "application\n",
            "applic\n",
            "applicable\n",
            "street\n",
            "xplain\n",
            "type\n",
            "char\n",
            "ent\n",
            "leasehold\n",
            "simple\n",
            "acquire\n",
            "acquired\n",
            "original\n",
            "incl\n",
            "liens\n",
            "usda\n",
            "built\n",
            "divorced\n",
            "separated\n",
            "housingservice\n",
            "prop\n",
            "propert\n",
            "box\n",
            "andthe\n",
            "purpose\n"
          ]
        }
      ]
    },
    {
      "cell_type": "code",
      "source": [
        ""
      ],
      "metadata": {
        "id": "ECHUzf_3cKsv"
      },
      "execution_count": null,
      "outputs": []
    },
    {
      "cell_type": "code",
      "source": [
        ""
      ],
      "metadata": {
        "id": "VebXXhpHFzKP"
      },
      "execution_count": null,
      "outputs": []
    }
  ]
}